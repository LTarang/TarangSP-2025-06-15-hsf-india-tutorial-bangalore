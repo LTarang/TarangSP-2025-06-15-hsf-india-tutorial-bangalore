{
 "cells": [
  {
   "cell_type": "markdown",
   "id": "95297315-9a1d-4176-86d8-84c9e6d3fd33",
   "metadata": {
    "editable": true,
    "slideshow": {
     "slide_type": ""
    },
    "tags": []
   },
   "source": [
    "# Lesson 2 project 1: Game of Life"
   ]
  },
  {
   "cell_type": "code",
   "execution_count": 1,
   "id": "b1d4b6c3-2e2a-4c7f-adfc-bfa13fb97807",
   "metadata": {},
   "outputs": [],
   "source": [
    "import numpy as np\n",
    "import matplotlib.pyplot as plt"
   ]
  },
  {
   "cell_type": "markdown",
   "id": "21ffcd8a-6220-4776-bc7a-ea1eea264969",
   "metadata": {
    "editable": true,
    "slideshow": {
     "slide_type": ""
    },
    "tags": []
   },
   "source": [
    "<br><br><br>"
   ]
  },
  {
   "cell_type": "markdown",
   "id": "581dd125-dfa5-4945-8926-a310cbdeda85",
   "metadata": {},
   "source": [
    "## Introduction"
   ]
  },
  {
   "cell_type": "markdown",
   "id": "50d21b11-c72c-422d-8e8e-584b4a722aa9",
   "metadata": {
    "editable": true,
    "slideshow": {
     "slide_type": ""
    },
    "tags": []
   },
   "source": [
    "In this exercise, you will implement [Conway's Game of Life](https://en.wikipedia.org/wiki/Conway%27s_Game_of_Life) in an array-oriented way.\n",
    "\n",
    "You've probably seen this before: it's a cellular automata in which a boolean grid of \"living\" and \"dead\" cells (microbes) are updated in discrete time-steps. In a time-step, each cell is affected by its 8 neighbors.\n",
    "\n",
    "<center>\n",
    "<img src=\"../img/Moore_neighborhood_with_cardinal_directions.svg\" width=\"300px\">\n",
    "</center>\n",
    "\n",
    "  1. Any live cell with fewer than 2 live neighbours dies, as if by underpopulation.\n",
    "  2. Any live cell with 2 or 3 live neighbours lives on to the next generation.\n",
    "  3. Any live cell with more than 3 live neighbours dies, as if by overpopulation.\n",
    "  4. Any dead cell with exactly 3 live neighbours becomes a live cell, as if by reproduction.\n",
    "\n",
    "Incidentally, in APL\n",
    "\n",
    "```apl\n",
    "life ← {↑1　⍵∨.∧3　4=+/,¯1　0　1∘.⊖¯1　0　1∘.⌽⊂⍵}\n",
    "```\n",
    "\n",
    "To see that it is working, we'll set the initial state of the board like this:"
   ]
  },
  {
   "cell_type": "code",
   "execution_count": 7,
   "id": "62d0088d-db1b-49c2-945e-9d7e09ce7b30",
   "metadata": {
    "tags": []
   },
   "outputs": [],
   "source": [
    "WIDTH = 128\n",
    "HEIGHT = 32\n",
    "\n",
    "def new_world():\n",
    "    world = np.zeros((HEIGHT, WIDTH), dtype=np.int32)\n",
    "\n",
    "    for x, y in [\n",
    "        ( 4, 125), ( 3, 124), ( 3, 123), ( 3, 122), ( 3, 121), ( 3, 120), ( 3, 119), ( 4, 119), ( 5, 119), ( 6, 120),\n",
    "        (10, 121), (11, 120), (12, 119), (12, 120), (13, 120), (13, 121), (14, 121),\n",
    "        (20, 121), (19, 120), (18, 120), (18, 119), (17, 121), (17, 120), (16, 121),\n",
    "        (26, 125), (27, 124), (27, 123), (27, 122), (27, 121), (27, 120), (27, 119), (26, 119), (25, 119), (24, 120)\n",
    "    ]:\n",
    "        world[x][y] = 1\n",
    "\n",
    "    return world\n",
    "\n",
    "#world = new_world()"
   ]
  },
  {
   "cell_type": "markdown",
   "id": "e4edb37f-a344-41bf-aa75-76e22e0e490f",
   "metadata": {
    "editable": true,
    "slideshow": {
     "slide_type": ""
    },
    "tags": []
   },
   "source": [
    "(This initial state is called a \"puffer,\" and [it came from here](http://www.ericweisstein.com/encyclopedias/life/Puffer.html).)\n",
    "\n",
    "When the game runs, it will look like this:\n",
    "\n",
    "<center>\n",
    "<img src=\"../img/game-of-life-puffer.gif\" width=\"594px\">\n",
    "</center>"
   ]
  },
  {
   "cell_type": "markdown",
   "id": "2749b5a6-7b2c-4fa0-bd66-6b3e8ed82d6b",
   "metadata": {},
   "source": [
    "<br><br><br>"
   ]
  },
  {
   "cell_type": "markdown",
   "id": "7b84c2f1-3f02-404b-8881-52bf773c3d59",
   "metadata": {},
   "source": [
    "## Visualizing the world"
   ]
  },
  {
   "cell_type": "markdown",
   "id": "07e14744-c7e7-4ac8-b9c2-9d3eefae5bed",
   "metadata": {},
   "source": [
    "During development, you'll need a way to see what you're doing, so you'll need a quick way to get the grid of booleans onto the screen. You could use Matplotlib's `imshow`,"
   ]
  },
  {
   "cell_type": "code",
   "execution_count": 9,
   "id": "95cf9b42-2282-4a1b-b7d8-aac7b9307ed9",
   "metadata": {
    "tags": []
   },
   "outputs": [
    {
     "name": "stdout",
     "output_type": "stream",
     "text": [
      "[[0, 0, 0, 0, 0, 0, 0, 0, 0, 0, 0, 0, 0, 0, 0, 0, 0, 0, 0, 0, 0, 0, 0, 0, 0, 0, 0, 0, 0, 0, 0, 0, 0, 0, 0, 0, 0, 0, 0, 0, 0, 0, 0, 0, 0, 0, 0, 0, 0, 0, 0, 0, 0, 0, 0, 0, 0, 0, 0, 0, 0, 0, 0, 0, 0, 0, 0, 0, 0, 0, 0, 0, 0, 0, 0, 0, 0, 0, 0, 0, 0, 0, 0, 0, 0, 0, 0, 0, 0, 0, 0, 0, 0, 0, 0, 0, 0, 0, 0, 0, 0, 0, 0, 0, 0, 0, 0, 0, 0, 0, 0, 0, 0, 0, 0, 0, 0, 0, 0, 0, 0, 0, 0, 0, 0, 0, 0, 0], [0, 0, 0, 0, 0, 0, 0, 0, 0, 0, 0, 0, 0, 0, 0, 0, 0, 0, 0, 0, 0, 0, 0, 0, 0, 0, 0, 0, 0, 0, 0, 0, 0, 0, 0, 0, 0, 0, 0, 0, 0, 0, 0, 0, 0, 0, 0, 0, 0, 0, 0, 0, 0, 0, 0, 0, 0, 0, 0, 0, 0, 0, 0, 0, 0, 0, 0, 0, 0, 0, 0, 0, 0, 0, 0, 0, 0, 0, 0, 0, 0, 0, 0, 0, 0, 0, 0, 0, 0, 0, 0, 0, 0, 0, 0, 0, 0, 0, 0, 0, 0, 0, 0, 0, 0, 0, 0, 0, 0, 0, 0, 0, 0, 0, 0, 0, 0, 0, 0, 0, 0, 0, 0, 0, 0, 0, 0, 0], [0, 0, 0, 0, 0, 0, 0, 0, 0, 0, 0, 0, 0, 0, 0, 0, 0, 0, 0, 0, 0, 0, 0, 0, 0, 0, 0, 0, 0, 0, 0, 0, 0, 0, 0, 0, 0, 0, 0, 0, 0, 0, 0, 0, 0, 0, 0, 0, 0, 0, 0, 0, 0, 0, 0, 0, 0, 0, 0, 0, 0, 0, 0, 0, 0, 0, 0, 0, 0, 0, 0, 0, 0, 0, 0, 0, 0, 0, 0, 0, 0, 0, 0, 0, 0, 0, 0, 0, 0, 0, 0, 0, 0, 0, 0, 0, 0, 0, 0, 0, 0, 0, 0, 0, 0, 0, 0, 0, 0, 0, 0, 0, 0, 0, 0, 0, 0, 0, 0, 0, 1, 1, 1, 1, 0, 0, 0, 0], [0, 0, 0, 0, 0, 0, 0, 0, 0, 0, 0, 0, 0, 0, 0, 0, 0, 0, 0, 0, 0, 0, 0, 0, 0, 0, 0, 0, 0, 0, 0, 0, 0, 0, 0, 0, 0, 0, 0, 0, 0, 0, 0, 0, 0, 0, 0, 0, 0, 0, 0, 0, 0, 0, 0, 0, 0, 0, 0, 0, 0, 0, 0, 0, 0, 0, 0, 0, 0, 0, 0, 0, 0, 0, 0, 0, 0, 0, 0, 0, 0, 0, 0, 0, 0, 0, 0, 0, 0, 0, 0, 0, 0, 0, 0, 0, 0, 0, 0, 0, 0, 0, 0, 0, 0, 0, 0, 0, 0, 0, 0, 0, 0, 0, 0, 0, 0, 0, 0, 1, 1, 1, 1, 1, 1, 0, 0, 0], [0, 0, 0, 0, 0, 0, 0, 0, 0, 0, 0, 0, 0, 0, 0, 0, 0, 0, 0, 0, 0, 0, 0, 0, 0, 0, 0, 0, 0, 0, 0, 0, 0, 0, 0, 0, 0, 0, 0, 0, 0, 0, 0, 0, 0, 0, 0, 0, 0, 0, 0, 0, 0, 0, 0, 0, 0, 0, 0, 0, 0, 0, 0, 0, 0, 0, 0, 0, 0, 0, 0, 0, 0, 0, 0, 0, 0, 0, 0, 0, 0, 0, 0, 0, 0, 0, 0, 0, 0, 0, 0, 0, 0, 0, 0, 0, 0, 0, 0, 0, 0, 0, 0, 0, 0, 0, 0, 0, 0, 0, 0, 0, 0, 0, 0, 0, 0, 0, 1, 1, 0, 1, 1, 1, 1, 0, 0, 0], [0, 0, 0, 0, 0, 0, 0, 0, 0, 0, 0, 0, 0, 0, 0, 0, 0, 0, 0, 0, 0, 0, 0, 0, 0, 0, 0, 0, 0, 0, 0, 0, 0, 0, 0, 0, 0, 0, 0, 0, 0, 0, 0, 0, 0, 0, 0, 0, 0, 0, 0, 0, 0, 0, 0, 0, 0, 0, 0, 0, 0, 0, 0, 0, 0, 0, 0, 0, 0, 0, 0, 0, 0, 0, 0, 0, 0, 0, 0, 0, 0, 0, 0, 0, 0, 0, 0, 0, 0, 0, 0, 0, 0, 0, 0, 0, 0, 0, 0, 0, 0, 0, 0, 0, 0, 0, 0, 0, 0, 0, 0, 0, 0, 0, 0, 0, 0, 0, 0, 1, 1, 0, 0, 0, 0, 0, 0, 0], [0, 0, 0, 0, 0, 0, 0, 0, 0, 0, 0, 0, 0, 0, 0, 0, 0, 0, 0, 0, 0, 0, 0, 0, 0, 0, 0, 0, 0, 0, 0, 0, 0, 0, 0, 0, 0, 0, 0, 0, 0, 0, 0, 0, 0, 0, 0, 0, 0, 0, 0, 0, 0, 0, 0, 0, 0, 0, 0, 0, 0, 0, 0, 0, 0, 0, 0, 0, 0, 0, 0, 0, 0, 0, 0, 0, 0, 0, 0, 0, 0, 0, 0, 0, 0, 0, 0, 0, 0, 0, 0, 0, 0, 0, 0, 0, 0, 0, 0, 0, 0, 0, 0, 0, 0, 0, 0, 0, 0, 0, 0, 0, 0, 0, 0, 0, 0, 0, 0, 0, 0, 0, 0, 0, 0, 0, 0, 0], [0, 0, 0, 0, 0, 0, 0, 0, 0, 0, 0, 0, 0, 0, 0, 0, 0, 0, 0, 0, 0, 0, 0, 0, 0, 0, 0, 0, 0, 0, 0, 0, 0, 0, 0, 0, 0, 0, 0, 0, 0, 0, 0, 0, 0, 0, 0, 0, 0, 0, 0, 0, 0, 0, 0, 0, 0, 0, 0, 0, 0, 0, 0, 0, 0, 0, 0, 0, 0, 0, 0, 0, 0, 0, 0, 0, 0, 0, 0, 0, 0, 0, 0, 0, 0, 0, 0, 0, 0, 0, 0, 0, 0, 0, 0, 0, 0, 0, 0, 0, 0, 0, 0, 0, 0, 0, 0, 0, 0, 0, 0, 0, 0, 0, 0, 0, 0, 0, 0, 0, 0, 0, 0, 0, 0, 0, 0, 0], [0, 0, 0, 0, 0, 0, 0, 0, 0, 0, 0, 0, 0, 0, 0, 0, 0, 0, 0, 0, 0, 0, 0, 0, 0, 0, 0, 0, 0, 0, 0, 0, 0, 0, 0, 0, 0, 0, 0, 0, 0, 0, 0, 0, 0, 0, 0, 0, 0, 0, 0, 0, 0, 0, 0, 0, 0, 0, 0, 0, 0, 0, 0, 0, 0, 0, 0, 0, 0, 0, 0, 0, 0, 0, 0, 0, 0, 0, 0, 0, 0, 0, 0, 0, 0, 0, 0, 0, 0, 0, 0, 0, 0, 0, 0, 0, 0, 0, 0, 0, 0, 0, 0, 0, 0, 0, 0, 0, 0, 0, 0, 0, 0, 0, 0, 0, 0, 0, 0, 0, 0, 0, 0, 0, 0, 0, 0, 0], [0, 0, 0, 0, 0, 0, 0, 0, 0, 0, 0, 0, 0, 0, 0, 0, 0, 0, 0, 0, 0, 0, 0, 0, 0, 0, 0, 0, 0, 0, 0, 0, 0, 0, 0, 0, 0, 0, 0, 0, 0, 0, 0, 0, 0, 0, 0, 0, 0, 0, 0, 0, 0, 0, 0, 0, 0, 0, 0, 0, 0, 0, 0, 0, 0, 0, 0, 0, 0, 0, 0, 0, 0, 0, 0, 0, 0, 0, 0, 0, 0, 0, 0, 0, 0, 0, 0, 0, 0, 0, 0, 0, 0, 0, 0, 0, 0, 0, 0, 0, 0, 0, 0, 0, 0, 0, 0, 0, 0, 0, 0, 0, 0, 0, 0, 0, 0, 0, 0, 0, 0, 0, 0, 0, 0, 0, 0, 0], [0, 0, 0, 0, 0, 0, 0, 0, 0, 0, 0, 0, 0, 0, 0, 0, 0, 0, 0, 0, 0, 0, 0, 0, 0, 0, 0, 0, 0, 0, 0, 0, 0, 0, 0, 0, 0, 0, 0, 0, 0, 0, 0, 0, 0, 0, 0, 0, 0, 0, 0, 0, 0, 0, 0, 0, 0, 0, 0, 0, 0, 0, 0, 0, 0, 0, 0, 0, 0, 0, 0, 0, 0, 0, 0, 0, 0, 0, 0, 0, 0, 0, 0, 0, 0, 0, 0, 0, 0, 0, 0, 0, 0, 0, 0, 0, 0, 0, 0, 0, 0, 0, 0, 0, 0, 0, 0, 0, 0, 0, 0, 0, 0, 0, 0, 0, 0, 0, 0, 0, 0, 0, 0, 0, 0, 0, 0, 0], [0, 0, 0, 0, 0, 0, 0, 0, 0, 0, 0, 0, 0, 0, 0, 0, 0, 0, 0, 0, 0, 0, 0, 0, 0, 0, 0, 0, 0, 0, 0, 0, 0, 0, 0, 0, 0, 0, 0, 0, 0, 0, 0, 0, 0, 0, 0, 0, 0, 0, 0, 0, 0, 0, 0, 0, 0, 0, 0, 0, 0, 0, 0, 0, 0, 0, 0, 0, 0, 0, 0, 0, 0, 0, 0, 0, 0, 0, 0, 0, 0, 0, 0, 0, 0, 0, 0, 0, 0, 0, 0, 0, 0, 0, 0, 0, 0, 0, 0, 0, 0, 0, 0, 0, 0, 0, 0, 0, 0, 0, 0, 0, 0, 0, 0, 0, 0, 0, 0, 1, 1, 1, 0, 0, 0, 0, 0, 0], [0, 0, 0, 0, 0, 0, 0, 0, 0, 0, 0, 0, 0, 0, 0, 0, 0, 0, 0, 0, 0, 0, 0, 0, 0, 0, 0, 0, 0, 0, 0, 0, 0, 0, 0, 0, 0, 0, 0, 0, 0, 0, 0, 0, 0, 0, 0, 0, 0, 0, 0, 0, 0, 0, 0, 0, 0, 0, 0, 0, 0, 0, 0, 0, 0, 0, 0, 0, 0, 0, 0, 0, 0, 0, 0, 0, 0, 0, 0, 0, 0, 0, 0, 0, 0, 0, 0, 0, 0, 0, 0, 0, 0, 0, 0, 0, 0, 0, 0, 0, 0, 0, 0, 0, 0, 0, 0, 0, 0, 0, 0, 0, 0, 0, 0, 0, 0, 0, 0, 1, 0, 0, 0, 0, 0, 0, 0, 0], [0, 0, 0, 0, 0, 0, 0, 0, 0, 0, 0, 0, 0, 0, 0, 0, 0, 0, 0, 0, 0, 0, 0, 0, 0, 0, 0, 0, 0, 0, 0, 0, 0, 0, 0, 0, 0, 0, 0, 0, 0, 0, 0, 0, 0, 0, 0, 0, 0, 0, 0, 0, 0, 0, 0, 0, 0, 0, 0, 0, 0, 0, 0, 0, 0, 0, 0, 0, 0, 0, 0, 0, 0, 0, 0, 0, 0, 0, 0, 0, 0, 0, 0, 0, 0, 0, 0, 0, 0, 0, 0, 0, 0, 0, 0, 0, 0, 0, 0, 0, 0, 0, 0, 0, 0, 0, 0, 0, 0, 0, 0, 0, 0, 0, 0, 0, 0, 0, 0, 1, 0, 1, 0, 0, 0, 0, 0, 0], [0, 0, 0, 0, 0, 0, 0, 0, 0, 0, 0, 0, 0, 0, 0, 0, 0, 0, 0, 0, 0, 0, 0, 0, 0, 0, 0, 0, 0, 0, 0, 0, 0, 0, 0, 0, 0, 0, 0, 0, 0, 0, 0, 0, 0, 0, 0, 0, 0, 0, 0, 0, 0, 0, 0, 0, 0, 0, 0, 0, 0, 0, 0, 0, 0, 0, 0, 0, 0, 0, 0, 0, 0, 0, 0, 0, 0, 0, 0, 0, 0, 0, 0, 0, 0, 0, 0, 0, 0, 0, 0, 0, 0, 0, 0, 0, 0, 0, 0, 0, 0, 0, 0, 0, 0, 0, 0, 0, 0, 0, 0, 0, 0, 0, 0, 0, 0, 0, 0, 0, 1, 1, 0, 0, 0, 0, 0, 0], [0, 0, 0, 0, 0, 0, 0, 0, 0, 0, 0, 0, 0, 0, 0, 0, 0, 0, 0, 0, 0, 0, 0, 0, 0, 0, 0, 0, 0, 0, 0, 0, 0, 0, 0, 0, 0, 0, 0, 0, 0, 0, 0, 0, 0, 0, 0, 0, 0, 0, 0, 0, 0, 0, 0, 0, 0, 0, 0, 0, 0, 0, 0, 0, 0, 0, 0, 0, 0, 0, 0, 0, 0, 0, 0, 0, 0, 0, 0, 0, 0, 0, 0, 0, 0, 0, 0, 0, 0, 0, 0, 0, 0, 0, 0, 0, 0, 0, 0, 0, 0, 0, 0, 0, 0, 0, 0, 0, 0, 0, 0, 0, 0, 0, 0, 0, 0, 0, 0, 0, 0, 0, 0, 0, 0, 0, 0, 0], [0, 0, 0, 0, 0, 0, 0, 0, 0, 0, 0, 0, 0, 0, 0, 0, 0, 0, 0, 0, 0, 0, 0, 0, 0, 0, 0, 0, 0, 0, 0, 0, 0, 0, 0, 0, 0, 0, 0, 0, 0, 0, 0, 0, 0, 0, 0, 0, 0, 0, 0, 0, 0, 0, 0, 0, 0, 0, 0, 0, 0, 0, 0, 0, 0, 0, 0, 0, 0, 0, 0, 0, 0, 0, 0, 0, 0, 0, 0, 0, 0, 0, 0, 0, 0, 0, 0, 0, 0, 0, 0, 0, 0, 0, 0, 0, 0, 0, 0, 0, 0, 0, 0, 0, 0, 0, 0, 0, 0, 0, 0, 0, 0, 0, 0, 0, 0, 0, 0, 0, 1, 1, 0, 0, 0, 0, 0, 0], [0, 0, 0, 0, 0, 0, 0, 0, 0, 0, 0, 0, 0, 0, 0, 0, 0, 0, 0, 0, 0, 0, 0, 0, 0, 0, 0, 0, 0, 0, 0, 0, 0, 0, 0, 0, 0, 0, 0, 0, 0, 0, 0, 0, 0, 0, 0, 0, 0, 0, 0, 0, 0, 0, 0, 0, 0, 0, 0, 0, 0, 0, 0, 0, 0, 0, 0, 0, 0, 0, 0, 0, 0, 0, 0, 0, 0, 0, 0, 0, 0, 0, 0, 0, 0, 0, 0, 0, 0, 0, 0, 0, 0, 0, 0, 0, 0, 0, 0, 0, 0, 0, 0, 0, 0, 0, 0, 0, 0, 0, 0, 0, 0, 0, 0, 0, 0, 0, 0, 1, 0, 1, 0, 0, 0, 0, 0, 0], [0, 0, 0, 0, 0, 0, 0, 0, 0, 0, 0, 0, 0, 0, 0, 0, 0, 0, 0, 0, 0, 0, 0, 0, 0, 0, 0, 0, 0, 0, 0, 0, 0, 0, 0, 0, 0, 0, 0, 0, 0, 0, 0, 0, 0, 0, 0, 0, 0, 0, 0, 0, 0, 0, 0, 0, 0, 0, 0, 0, 0, 0, 0, 0, 0, 0, 0, 0, 0, 0, 0, 0, 0, 0, 0, 0, 0, 0, 0, 0, 0, 0, 0, 0, 0, 0, 0, 0, 0, 0, 0, 0, 0, 0, 0, 0, 0, 0, 0, 0, 0, 0, 0, 0, 0, 0, 0, 0, 0, 0, 0, 0, 0, 0, 0, 0, 0, 0, 0, 1, 0, 0, 0, 0, 0, 0, 0, 0], [0, 0, 0, 0, 0, 0, 0, 0, 0, 0, 0, 0, 0, 0, 0, 0, 0, 0, 0, 0, 0, 0, 0, 0, 0, 0, 0, 0, 0, 0, 0, 0, 0, 0, 0, 0, 0, 0, 0, 0, 0, 0, 0, 0, 0, 0, 0, 0, 0, 0, 0, 0, 0, 0, 0, 0, 0, 0, 0, 0, 0, 0, 0, 0, 0, 0, 0, 0, 0, 0, 0, 0, 0, 0, 0, 0, 0, 0, 0, 0, 0, 0, 0, 0, 0, 0, 0, 0, 0, 0, 0, 0, 0, 0, 0, 0, 0, 0, 0, 0, 0, 0, 0, 0, 0, 0, 0, 0, 0, 0, 0, 0, 0, 0, 0, 0, 0, 0, 0, 1, 1, 1, 0, 0, 0, 0, 0, 0], [0, 0, 0, 0, 0, 0, 0, 0, 0, 0, 0, 0, 0, 0, 0, 0, 0, 0, 0, 0, 0, 0, 0, 0, 0, 0, 0, 0, 0, 0, 0, 0, 0, 0, 0, 0, 0, 0, 0, 0, 0, 0, 0, 0, 0, 0, 0, 0, 0, 0, 0, 0, 0, 0, 0, 0, 0, 0, 0, 0, 0, 0, 0, 0, 0, 0, 0, 0, 0, 0, 0, 0, 0, 0, 0, 0, 0, 0, 0, 0, 0, 0, 0, 0, 0, 0, 0, 0, 0, 0, 0, 0, 0, 0, 0, 0, 0, 0, 0, 0, 0, 0, 0, 0, 0, 0, 0, 0, 0, 0, 0, 0, 0, 0, 0, 0, 0, 0, 0, 0, 0, 0, 0, 0, 0, 0, 0, 0], [0, 0, 0, 0, 0, 0, 0, 0, 0, 0, 0, 0, 0, 0, 0, 0, 0, 0, 0, 0, 0, 0, 0, 0, 0, 0, 0, 0, 0, 0, 0, 0, 0, 0, 0, 0, 0, 0, 0, 0, 0, 0, 0, 0, 0, 0, 0, 0, 0, 0, 0, 0, 0, 0, 0, 0, 0, 0, 0, 0, 0, 0, 0, 0, 0, 0, 0, 0, 0, 0, 0, 0, 0, 0, 0, 0, 0, 0, 0, 0, 0, 0, 0, 0, 0, 0, 0, 0, 0, 0, 0, 0, 0, 0, 0, 0, 0, 0, 0, 0, 0, 0, 0, 0, 0, 0, 0, 0, 0, 0, 0, 0, 0, 0, 0, 0, 0, 0, 0, 0, 0, 0, 0, 0, 0, 0, 0, 0], [0, 0, 0, 0, 0, 0, 0, 0, 0, 0, 0, 0, 0, 0, 0, 0, 0, 0, 0, 0, 0, 0, 0, 0, 0, 0, 0, 0, 0, 0, 0, 0, 0, 0, 0, 0, 0, 0, 0, 0, 0, 0, 0, 0, 0, 0, 0, 0, 0, 0, 0, 0, 0, 0, 0, 0, 0, 0, 0, 0, 0, 0, 0, 0, 0, 0, 0, 0, 0, 0, 0, 0, 0, 0, 0, 0, 0, 0, 0, 0, 0, 0, 0, 0, 0, 0, 0, 0, 0, 0, 0, 0, 0, 0, 0, 0, 0, 0, 0, 0, 0, 0, 0, 0, 0, 0, 0, 0, 0, 0, 0, 0, 0, 0, 0, 0, 0, 0, 0, 0, 0, 0, 0, 0, 0, 0, 0, 0], [0, 0, 0, 0, 0, 0, 0, 0, 0, 0, 0, 0, 0, 0, 0, 0, 0, 0, 0, 0, 0, 0, 0, 0, 0, 0, 0, 0, 0, 0, 0, 0, 0, 0, 0, 0, 0, 0, 0, 0, 0, 0, 0, 0, 0, 0, 0, 0, 0, 0, 0, 0, 0, 0, 0, 0, 0, 0, 0, 0, 0, 0, 0, 0, 0, 0, 0, 0, 0, 0, 0, 0, 0, 0, 0, 0, 0, 0, 0, 0, 0, 0, 0, 0, 0, 0, 0, 0, 0, 0, 0, 0, 0, 0, 0, 0, 0, 0, 0, 0, 0, 0, 0, 0, 0, 0, 0, 0, 0, 0, 0, 0, 0, 0, 0, 0, 0, 0, 0, 0, 0, 0, 0, 0, 0, 0, 0, 0], [0, 0, 0, 0, 0, 0, 0, 0, 0, 0, 0, 0, 0, 0, 0, 0, 0, 0, 0, 0, 0, 0, 0, 0, 0, 0, 0, 0, 0, 0, 0, 0, 0, 0, 0, 0, 0, 0, 0, 0, 0, 0, 0, 0, 0, 0, 0, 0, 0, 0, 0, 0, 0, 0, 0, 0, 0, 0, 0, 0, 0, 0, 0, 0, 0, 0, 0, 0, 0, 0, 0, 0, 0, 0, 0, 0, 0, 0, 0, 0, 0, 0, 0, 0, 0, 0, 0, 0, 0, 0, 0, 0, 0, 0, 0, 0, 0, 0, 0, 0, 0, 0, 0, 0, 0, 0, 0, 0, 0, 0, 0, 0, 0, 0, 0, 0, 0, 0, 0, 0, 0, 0, 0, 0, 0, 0, 0, 0], [0, 0, 0, 0, 0, 0, 0, 0, 0, 0, 0, 0, 0, 0, 0, 0, 0, 0, 0, 0, 0, 0, 0, 0, 0, 0, 0, 0, 0, 0, 0, 0, 0, 0, 0, 0, 0, 0, 0, 0, 0, 0, 0, 0, 0, 0, 0, 0, 0, 0, 0, 0, 0, 0, 0, 0, 0, 0, 0, 0, 0, 0, 0, 0, 0, 0, 0, 0, 0, 0, 0, 0, 0, 0, 0, 0, 0, 0, 0, 0, 0, 0, 0, 0, 0, 0, 0, 0, 0, 0, 0, 0, 0, 0, 0, 0, 0, 0, 0, 0, 0, 0, 0, 0, 0, 0, 0, 0, 0, 0, 0, 0, 0, 0, 0, 0, 0, 0, 0, 1, 1, 0, 0, 0, 0, 0, 0, 0], [0, 0, 0, 0, 0, 0, 0, 0, 0, 0, 0, 0, 0, 0, 0, 0, 0, 0, 0, 0, 0, 0, 0, 0, 0, 0, 0, 0, 0, 0, 0, 0, 0, 0, 0, 0, 0, 0, 0, 0, 0, 0, 0, 0, 0, 0, 0, 0, 0, 0, 0, 0, 0, 0, 0, 0, 0, 0, 0, 0, 0, 0, 0, 0, 0, 0, 0, 0, 0, 0, 0, 0, 0, 0, 0, 0, 0, 0, 0, 0, 0, 0, 0, 0, 0, 0, 0, 0, 0, 0, 0, 0, 0, 0, 0, 0, 0, 0, 0, 0, 0, 0, 0, 0, 0, 0, 0, 0, 0, 0, 0, 0, 0, 0, 0, 0, 0, 0, 1, 1, 0, 1, 1, 1, 1, 0, 0, 0], [0, 0, 0, 0, 0, 0, 0, 0, 0, 0, 0, 0, 0, 0, 0, 0, 0, 0, 0, 0, 0, 0, 0, 0, 0, 0, 0, 0, 0, 0, 0, 0, 0, 0, 0, 0, 0, 0, 0, 0, 0, 0, 0, 0, 0, 0, 0, 0, 0, 0, 0, 0, 0, 0, 0, 0, 0, 0, 0, 0, 0, 0, 0, 0, 0, 0, 0, 0, 0, 0, 0, 0, 0, 0, 0, 0, 0, 0, 0, 0, 0, 0, 0, 0, 0, 0, 0, 0, 0, 0, 0, 0, 0, 0, 0, 0, 0, 0, 0, 0, 0, 0, 0, 0, 0, 0, 0, 0, 0, 0, 0, 0, 0, 0, 0, 0, 0, 0, 0, 1, 1, 1, 1, 1, 1, 0, 0, 0], [0, 0, 0, 0, 0, 0, 0, 0, 0, 0, 0, 0, 0, 0, 0, 0, 0, 0, 0, 0, 0, 0, 0, 0, 0, 0, 0, 0, 0, 0, 0, 0, 0, 0, 0, 0, 0, 0, 0, 0, 0, 0, 0, 0, 0, 0, 0, 0, 0, 0, 0, 0, 0, 0, 0, 0, 0, 0, 0, 0, 0, 0, 0, 0, 0, 0, 0, 0, 0, 0, 0, 0, 0, 0, 0, 0, 0, 0, 0, 0, 0, 0, 0, 0, 0, 0, 0, 0, 0, 0, 0, 0, 0, 0, 0, 0, 0, 0, 0, 0, 0, 0, 0, 0, 0, 0, 0, 0, 0, 0, 0, 0, 0, 0, 0, 0, 0, 0, 0, 0, 1, 1, 1, 1, 0, 0, 0, 0], [0, 0, 0, 0, 0, 0, 0, 0, 0, 0, 0, 0, 0, 0, 0, 0, 0, 0, 0, 0, 0, 0, 0, 0, 0, 0, 0, 0, 0, 0, 0, 0, 0, 0, 0, 0, 0, 0, 0, 0, 0, 0, 0, 0, 0, 0, 0, 0, 0, 0, 0, 0, 0, 0, 0, 0, 0, 0, 0, 0, 0, 0, 0, 0, 0, 0, 0, 0, 0, 0, 0, 0, 0, 0, 0, 0, 0, 0, 0, 0, 0, 0, 0, 0, 0, 0, 0, 0, 0, 0, 0, 0, 0, 0, 0, 0, 0, 0, 0, 0, 0, 0, 0, 0, 0, 0, 0, 0, 0, 0, 0, 0, 0, 0, 0, 0, 0, 0, 0, 0, 0, 0, 0, 0, 0, 0, 0, 0], [0, 0, 0, 0, 0, 0, 0, 0, 0, 0, 0, 0, 0, 0, 0, 0, 0, 0, 0, 0, 0, 0, 0, 0, 0, 0, 0, 0, 0, 0, 0, 0, 0, 0, 0, 0, 0, 0, 0, 0, 0, 0, 0, 0, 0, 0, 0, 0, 0, 0, 0, 0, 0, 0, 0, 0, 0, 0, 0, 0, 0, 0, 0, 0, 0, 0, 0, 0, 0, 0, 0, 0, 0, 0, 0, 0, 0, 0, 0, 0, 0, 0, 0, 0, 0, 0, 0, 0, 0, 0, 0, 0, 0, 0, 0, 0, 0, 0, 0, 0, 0, 0, 0, 0, 0, 0, 0, 0, 0, 0, 0, 0, 0, 0, 0, 0, 0, 0, 0, 0, 0, 0, 0, 0, 0, 0, 0, 0], [0, 0, 0, 0, 0, 0, 0, 0, 0, 0, 0, 0, 0, 0, 0, 0, 0, 0, 0, 0, 0, 0, 0, 0, 0, 0, 0, 0, 0, 0, 0, 0, 0, 0, 0, 0, 0, 0, 0, 0, 0, 0, 0, 0, 0, 0, 0, 0, 0, 0, 0, 0, 0, 0, 0, 0, 0, 0, 0, 0, 0, 0, 0, 0, 0, 0, 0, 0, 0, 0, 0, 0, 0, 0, 0, 0, 0, 0, 0, 0, 0, 0, 0, 0, 0, 0, 0, 0, 0, 0, 0, 0, 0, 0, 0, 0, 0, 0, 0, 0, 0, 0, 0, 0, 0, 0, 0, 0, 0, 0, 0, 0, 0, 0, 0, 0, 0, 0, 0, 0, 0, 0, 0, 0, 0, 0, 0, 0]]\n"
     ]
    },
    {
     "data": {
      "image/png": "[encoded data removed]",
      "text/plain": [
       "<Figure size 640x480 with 1 Axes>"
      ]
     },
     "metadata": {},
     "output_type": "display_data"
    }
   ],
   "source": [
    "plt.imshow(world);\n",
    "print(world)"
   ]
  },
  {
   "cell_type": "markdown",
   "id": "bfa85927-bd63-45a2-b6dc-af04cf6f564a",
   "metadata": {},
   "source": [
    "but I would use ASCII art for something like this, so that it's easier to count cells and understand when something's going wrong. Make sure your window is wide enough that you see this as a box.\n",
    "\n",
    "You might find other characters to be more useful than `@` and `.`, such as `*` and ` `."
   ]
  },
  {
   "cell_type": "code",
   "execution_count": 10,
   "id": "977c2d73-5efa-4fce-918f-e30dc173008c",
   "metadata": {
    "tags": []
   },
   "outputs": [
    {
     "name": "stdout",
     "output_type": "stream",
     "text": [
      "|................................................................................................................................|\n",
      "|................................................................................................................................|\n",
      "|........................................................................................................................@@@@....|\n",
      "|.......................................................................................................................@@@@@@...|\n",
      "|......................................................................................................................@@.@@@@...|\n",
      "|.......................................................................................................................@@.......|\n",
      "|................................................................................................................................|\n",
      "|................................................................................................................................|\n",
      "|................................................................................................................................|\n",
      "|................................................................................................................................|\n",
      "|................................................................................................................................|\n",
      "|.......................................................................................................................@@@......|\n",
      "|.......................................................................................................................@........|\n",
      "|.......................................................................................................................@.@......|\n",
      "|........................................................................................................................@@......|\n",
      "|................................................................................................................................|\n",
      "|........................................................................................................................@@......|\n",
      "|.......................................................................................................................@.@......|\n",
      "|.......................................................................................................................@........|\n",
      "|.......................................................................................................................@@@......|\n",
      "|................................................................................................................................|\n",
      "|................................................................................................................................|\n",
      "|................................................................................................................................|\n",
      "|................................................................................................................................|\n",
      "|................................................................................................................................|\n",
      "|.......................................................................................................................@@.......|\n",
      "|......................................................................................................................@@.@@@@...|\n",
      "|.......................................................................................................................@@@@@@...|\n",
      "|........................................................................................................................@@@@....|\n",
      "|................................................................................................................................|\n",
      "|................................................................................................................................|\n",
      "|................................................................................................................................|\n"
     ]
    }
   ],
   "source": [
    "def show(world):\n",
    "    for row in world:\n",
    "        print(\"|\" + \"\".join(\"@\" if cell else \".\" for cell in row) + \"|\")\n",
    "\n",
    "show(world)"
   ]
  },
  {
   "cell_type": "markdown",
   "id": "c62ca4fd-b481-4cb8-951a-4924f3d1daaa",
   "metadata": {},
   "source": [
    "<br><br><br>"
   ]
  },
  {
   "cell_type": "markdown",
   "id": "edcfc41d-c70c-4f09-b93f-f6ce1b57fe4a",
   "metadata": {},
   "source": [
    "## Imperative implementation"
   ]
  },
  {
   "cell_type": "markdown",
   "id": "7bbf124c-4d13-422c-bf73-c6d956b1d08d",
   "metadata": {
    "tags": []
   },
   "source": [
    "Following the rules set out above, a straightforward implementation with Python `for` loops would be:"
   ]
  },
  {
   "cell_type": "code",
   "execution_count": 11,
   "id": "6dcc0157-f9b6-4da6-91ac-7475d8a5ef3e",
   "metadata": {
    "tags": []
   },
   "outputs": [],
   "source": [
    "def step_python(world):\n",
    "    outworld = []\n",
    "    for i, row in enumerate(world):\n",
    "        outrow = []\n",
    "        for j, cell in enumerate(row):\n",
    "            # count the number of living neighbors\n",
    "            num_neighbors = 0\n",
    "            for di in -1, 0, 1:\n",
    "                for dj in -1, 0, 1:\n",
    "                    if (di, dj) != (0, 0):\n",
    "                        if world[(i + di) % HEIGHT][(j + dj) % WIDTH]:\n",
    "                            num_neighbors += 1\n",
    "\n",
    "            # use that information to decide if the next value of this cell is 0 or 1\n",
    "            if cell and 1 < num_neighbors < 4:\n",
    "                outrow.append(1)\n",
    "            elif not cell and num_neighbors == 3:\n",
    "                outrow.append(1)\n",
    "            else:\n",
    "                outrow.append(0)\n",
    "\n",
    "        outworld.append(outrow)\n",
    "    return outworld"
   ]
  },
  {
   "cell_type": "markdown",
   "id": "40ec4d58-0a7b-47df-ad65-6b9b19628518",
   "metadata": {
    "editable": true,
    "slideshow": {
     "slide_type": ""
    },
    "tags": []
   },
   "source": [
    "Note that this implementation creates a new world and returns it as output, rather than modifying the original world. That's a good practice, since the \"number of neighbors\" in the rules refers to the number in the current time-step, not a state that is partly the current time-step and partly the next time-step.\n",
    "\n",
    "(If you really want your implementation to avoid creating new arrays in each time-step, you could make two arrays: one for the current, the other for the next time-step, then alternate between them.)\n",
    "\n",
    "This implementation used\n",
    "\n",
    "```python\n",
    "(i + di) % HEIGHT\n",
    "```\n",
    "\n",
    "and\n",
    "\n",
    "```python\n",
    "(j + dj) % WIDTH\n",
    "```\n",
    "\n",
    "to make the \"left neighbor\" of the left edge be the right edge and the \"top neighbor\" of the top edge be the bottom edge, like this:\n",
    "\n",
    "<center>\n",
    "<img src=\"../img/Torus_graph.png\" width=\"300px\">\n",
    "</center>\n",
    "\n",
    "but the problem was set up in such a way that you don't need to worry about edge conditions whose value is 0 (\"dead\"). If implemented properly, none of the edges will be 1 (\"alive\") until iteration 237. You can run it for 236 iterations and not worry about the edges.\n",
    "\n",
    "To see this function in action, repeatedly evaluate the next Jupyter cell (control-enter)."
   ]
  },
  {
   "cell_type": "code",
   "execution_count": 12,
   "id": "5bd9298b-fe13-45f6-b8cf-7724e42c65a5",
   "metadata": {
    "tags": []
   },
   "outputs": [
    {
     "name": "stdout",
     "output_type": "stream",
     "text": [
      "|................................................................................................................................|\n",
      "|.........................................................................................................................@@.....|\n",
      "|.......................................................................................................................@....@...|\n",
      "|......................................................................................................................@.........|\n",
      "|......................................................................................................................@.....@...|\n",
      "|......................................................................................................................@@@@@@....|\n",
      "|................................................................................................................................|\n",
      "|................................................................................................................................|\n",
      "|................................................................................................................................|\n",
      "|................................................................................................................................|\n",
      "|........................................................................................................................@.......|\n",
      "|.......................................................................................................................@@.......|\n",
      "|......................................................................................................................@@.@......|\n",
      "|.......................................................................................................................@.@......|\n",
      "|........................................................................................................................@@......|\n",
      "|................................................................................................................................|\n",
      "|........................................................................................................................@@......|\n",
      "|.......................................................................................................................@.@......|\n",
      "|......................................................................................................................@@.@......|\n",
      "|.......................................................................................................................@@.......|\n",
      "|........................................................................................................................@.......|\n",
      "|................................................................................................................................|\n",
      "|................................................................................................................................|\n",
      "|................................................................................................................................|\n",
      "|................................................................................................................................|\n",
      "|......................................................................................................................@@@@@@....|\n",
      "|......................................................................................................................@.....@...|\n",
      "|......................................................................................................................@.........|\n",
      "|.......................................................................................................................@....@...|\n",
      "|.........................................................................................................................@@.....|\n",
      "|................................................................................................................................|\n",
      "|................................................................................................................................|\n"
     ]
    }
   ],
   "source": [
    "# world = new_world()       # uncomment to reset the world\n",
    "\n",
    "world = step_python(world)\n",
    "show(world)"
   ]
  },
  {
   "cell_type": "markdown",
   "id": "4d368365-6dfc-4bdd-b4d2-002a16070112",
   "metadata": {},
   "source": [
    "<br><br><br>"
   ]
  },
  {
   "cell_type": "markdown",
   "id": "054649fb-cab4-407f-8149-670d2ec19aee",
   "metadata": {},
   "source": [
    "## The exercise"
   ]
  },
  {
   "cell_type": "markdown",
   "id": "6624c8d4-4c3d-472c-8747-e8c08202d758",
   "metadata": {},
   "source": [
    "Implement the same algorithm using [array-oriented NumPy routines](https://numpy.org/doc/stable/reference/index.html).\n",
    "\n",
    "Maybe just slices and assignment: you don't need special functions (though you can use them).\n",
    "\n",
    "(If you think you're really clever, try solving it with [scipy.signal.convolve2d](https://docs.scipy.org/doc/scipy/reference/generated/scipy.signal.convolve2d.html)!)\n",
    "\n",
    "**Criteria:**\n",
    "\n",
    "By \"array-oriented,\" I mean that each Python function call performs an operation on the whole grid, not one cell of the grid. There should be no Python `for` loops iterating over the cells, whether\n",
    "\n",
    "   * explicitly as a `for` statement\n",
    "   * explicitly in a list comprehension\n",
    "   * implicitly in functions like `map`, `filter`, and `sum`, or anything from `itertools`.\n",
    "\n",
    "One (rough) way to tell if you're following these rules is if the performance is on a NumPy scale, rather than a Python scale.\n",
    "\n",
    "For instance,"
   ]
  },
  {
   "cell_type": "code",
   "execution_count": null,
   "id": "fce2f69f-b4cf-43b6-a29b-e927b7e389f3",
   "metadata": {
    "tags": []
   },
   "outputs": [],
   "source": [
    "%%timeit\n",
    "\n",
    "step_python(world)"
   ]
  },
  {
   "cell_type": "markdown",
   "id": "1f9d0820-cd18-4153-8dbf-c671166ba324",
   "metadata": {
    "tags": []
   },
   "source": [
    "but a\n",
    "\n",
    "```python\n",
    "%%timeit\n",
    "\n",
    "step_numpy(world)\n",
    "```\n",
    "\n",
    "would be about an order of magnitude faster, at least."
   ]
  },
  {
   "cell_type": "code",
   "execution_count": null,
   "id": "d809d320-1529-429d-b678-94bde7a3bfe6",
   "metadata": {
    "tags": []
   },
   "outputs": [],
   "source": [
    "def step_numpy(world):\n",
    "    ..."
   ]
  },
  {
   "cell_type": "markdown",
   "id": "2ebebab8-da0d-4f95-90d6-e861620e2f86",
   "metadata": {},
   "source": [
    "<br><br><br>"
   ]
  },
  {
   "cell_type": "markdown",
   "id": "617f9a32-99f4-4256-b2ab-0a578ce7abc6",
   "metadata": {},
   "source": [
    "**Self-check:** does your `step_numpy` always return the same results as `step_python`?\n",
    "\n",
    "```python\n",
    "assert np.array_equal(step_numpy(world), step_python(world))\n",
    "```"
   ]
  },
  {
   "cell_type": "markdown",
   "id": "a18b7af1-cfde-4d14-9a1e-783a39670fc5",
   "metadata": {},
   "source": [
    "<br><br><br>"
   ]
  },
  {
   "cell_type": "markdown",
   "id": "9140ba3a-0508-472c-b127-aa561bd8e935",
   "metadata": {},
   "source": [
    "<details>\n",
    "    <summary><b>Hint!</b></summary>\n",
    "\n",
    "Can you make a 2D array of the number of live neighbors each cell has?\n",
    "\n",
    "If so, the Game of Life rules are\n",
    "\n",
    "```python\n",
    "survivors = ((world == 1) & (num_neighbors > 1) & (num_neighbors < 4))  # old cells that survive\n",
    "births    = ((world == 0) & (num_neighbors == 3))                       # new cells that are born\n",
    "new_world = (births | survivors)\n",
    "```\n",
    "\n",
    "<br>\n",
    "\n",
    "In fact, make `count_neighbors(world)` a separate function from `step_numpy(world)`, so that you can debug it with\n",
    "\n",
    "```python\n",
    "def show_neighbors(num_neighbors):\n",
    "    for row in num_neighbors:\n",
    "        print(\"|\" + \"\".join(str(cell) if cell else \" \" for cell in row) + \"|\")\n",
    "```\n",
    "\n",
    "</details>"
   ]
  },
  {
   "cell_type": "markdown",
   "id": "03c4e359-efd1-4813-a00e-ba5d167dd0d2",
   "metadata": {},
   "source": [
    "<details>\n",
    "    <summary><b>Second hint!</b></summary>\n",
    "\n",
    "Given a one-dimensional array\n",
    "\n",
    "| | index 0 | index 1 | index 2 | index 3 | index 4 | index 5 | index 6 |\n",
    "|:-|:-:|:-:|:-:|:-:|:-:|:-:|:-:|\n",
    "| **array values** | 0 | 0 | 1 | 0 | 1 | 0 | 0 |\n",
    "\n",
    "How would you calculate these live left-neighbors and these live right-neighbors, then add them up to the total number of live neighbors?\n",
    "\n",
    "| | index 0 | index 1 | index 2 | index 3 | index 4 | index 5 | index 6 |\n",
    "|:-|:-:|:-:|:-:|:-:|:-:|:-:|:-:|\n",
    "| **left neighbors** | 0 | 0 | 0 | 1 | 0 | 1 | 0 |\n",
    "| **right neighbors** | 0 | 1 | 0 | 1 | 0 | 0 | 0 |\n",
    "| **total neighbors** | 0 | 1 | 0 | 2 | 0 | 1 | 0 |\n",
    "\n",
    "</details>"
   ]
  }
 ],
 "metadata": {
  "kernelspec": {
   "display_name": "Python 3 (ipykernel)",
   "language": "python",
   "name": "python3"
  },
  "language_info": {
   "codemirror_mode": {
    "name": "ipython",
    "version": 3
   },
   "file_extension": ".py",
   "mimetype": "text/x-python",
   "name": "python",
   "nbconvert_exporter": "python",
   "pygments_lexer": "ipython3",
   "version": "3.10.18"
  }
 },
 "nbformat": 4,
 "nbformat_minor": 5
}
